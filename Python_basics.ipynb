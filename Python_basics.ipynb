{
  "nbformat": 4,
  "nbformat_minor": 0,
  "metadata": {
    "colab": {
      "provenance": [],
      "authorship_tag": "ABX9TyOgjTqmmsHqOU9qXtna3s0P",
      "include_colab_link": true
    },
    "kernelspec": {
      "name": "python3",
      "display_name": "Python 3"
    },
    "language_info": {
      "name": "python"
    }
  },
  "cells": [
    {
      "cell_type": "markdown",
      "metadata": {
        "id": "view-in-github",
        "colab_type": "text"
      },
      "source": [
        "<a href=\"https://colab.research.google.com/github/essymizo/GIS_MachineLearning/blob/main/Python_basics.ipynb\" target=\"_parent\"><img src=\"https://colab.research.google.com/assets/colab-badge.svg\" alt=\"Open In Colab\"/></a>"
      ]
    },
    {
      "cell_type": "markdown",
      "source": [],
      "metadata": {
        "id": "X-8cGiMQTKlg"
      }
    },
    {
      "cell_type": "code",
      "execution_count": null,
      "metadata": {
        "colab": {
          "base_uri": "https://localhost:8080/"
        },
        "id": "QqJStLJiSwxv",
        "outputId": "b95569b4-527f-46f8-b9e8-87670bb8c17f"
      },
      "outputs": [
        {
          "output_type": "stream",
          "name": "stdout",
          "text": [
            "0\n",
            "Done\n",
            "1\n",
            "Done\n",
            "2\n",
            "Done\n",
            "Stop\n"
          ]
        }
      ],
      "source": [
        "for i in [0,1,2]:\n",
        "  print(i)\n",
        "  print('Done')\n",
        "print('Stop')"
      ]
    },
    {
      "cell_type": "code",
      "source": [
        "a=1\n",
        "b=3\n",
        "c=1\n",
        "print('is a greater than b OR not equal to c:', (a>b)|(a!=c))\n",
        "print('is a greater than b AND not equal to c:', (a>b)&(a!=c))"
      ],
      "metadata": {
        "colab": {
          "base_uri": "https://localhost:8080/"
        },
        "id": "QtiPiv8OUZcu",
        "outputId": "283f840c-13a4-4f8d-939a-c823ee8bbf5c"
      },
      "execution_count": null,
      "outputs": [
        {
          "output_type": "stream",
          "name": "stdout",
          "text": [
            "is a greater than b OR not equal to c: False\n",
            "is a greater than b AND not equal to c: False\n"
          ]
        }
      ]
    },
    {
      "cell_type": "code",
      "source": [
        "def test_func(a,b):\n",
        "  if a>b:\n",
        "    print(\"a is bigger\")\n",
        "  elif a<b:\n",
        "    print(\"a is lesser\")\n",
        "  else:\n",
        "    print(\"ola\")"
      ],
      "metadata": {
        "id": "w4mpCfePVGnI"
      },
      "execution_count": null,
      "outputs": []
    },
    {
      "cell_type": "code",
      "source": [
        "test_func(3,8)"
      ],
      "metadata": {
        "colab": {
          "base_uri": "https://localhost:8080/"
        },
        "id": "-tF1Q_RnVZVP",
        "outputId": "51aaa795-8fb8-4009-c7c8-e959ce6af7aa"
      },
      "execution_count": null,
      "outputs": [
        {
          "output_type": "stream",
          "name": "stdout",
          "text": [
            "a is lesser\n"
          ]
        }
      ]
    },
    {
      "cell_type": "code",
      "source": [
        "import numpy as np\n"
      ],
      "metadata": {
        "id": "jQrH8OqDTVQ3"
      },
      "execution_count": null,
      "outputs": []
    },
    {
      "cell_type": "code",
      "source": [
        "a=[1,2,'hi']\n",
        "print(a[-1])\n",
        "print(type(a))\n",
        "b=np.array(a)\n",
        "print(type(b))"
      ],
      "metadata": {
        "colab": {
          "base_uri": "https://localhost:8080/"
        },
        "id": "1yQAddBbTcgw",
        "outputId": "ccc9e39d-e2f3-4a7d-bac9-015309c8b9a3"
      },
      "execution_count": null,
      "outputs": [
        {
          "output_type": "stream",
          "name": "stdout",
          "text": [
            "hi\n",
            "<class 'list'>\n",
            "<class 'numpy.ndarray'>\n"
          ]
        }
      ]
    },
    {
      "cell_type": "code",
      "source": [
        "a=np.ones((3,4,2))\n",
        "print(a)\n",
        "a.shape"
      ],
      "metadata": {
        "colab": {
          "base_uri": "https://localhost:8080/"
        },
        "id": "lYCjTq_KVeQO",
        "outputId": "c4c62149-d795-491e-ce33-4d0f344831b7"
      },
      "execution_count": null,
      "outputs": [
        {
          "output_type": "stream",
          "name": "stdout",
          "text": [
            "[[[1. 1.]\n",
            "  [1. 1.]\n",
            "  [1. 1.]\n",
            "  [1. 1.]]\n",
            "\n",
            " [[1. 1.]\n",
            "  [1. 1.]\n",
            "  [1. 1.]\n",
            "  [1. 1.]]\n",
            "\n",
            " [[1. 1.]\n",
            "  [1. 1.]\n",
            "  [1. 1.]\n",
            "  [1. 1.]]]\n"
          ]
        },
        {
          "output_type": "execute_result",
          "data": {
            "text/plain": [
              "(3, 4, 2)"
            ]
          },
          "metadata": {},
          "execution_count": 25
        }
      ]
    },
    {
      "cell_type": "code",
      "source": [
        "a=np.arange(0,31,2,int)\n",
        "#print(a)\n",
        "a.shape\n",
        "b=a.reshape(4,-1)\n",
        "print(b,'\\n',b.shape)\n"
      ],
      "metadata": {
        "colab": {
          "base_uri": "https://localhost:8080/"
        },
        "id": "qH1c46yNWOeR",
        "outputId": "4edffb9c-8e0c-4c06-da53-ff44750f0c95"
      },
      "execution_count": null,
      "outputs": [
        {
          "output_type": "stream",
          "name": "stdout",
          "text": [
            "[[ 0  2  4  6]\n",
            " [ 8 10 12 14]\n",
            " [16 18 20 22]\n",
            " [24 26 28 30]] \n",
            " (4, 4)\n"
          ]
        }
      ]
    },
    {
      "cell_type": "code",
      "source": [
        "print(b[2:])"
      ],
      "metadata": {
        "colab": {
          "base_uri": "https://localhost:8080/"
        },
        "id": "pZDuUPtVWqYo",
        "outputId": "bf7a4d05-ad52-43cd-e580-e8266ef3914c"
      },
      "execution_count": null,
      "outputs": [
        {
          "output_type": "stream",
          "name": "stdout",
          "text": [
            "[[16 18 20 22]\n",
            " [24 26 28 30]]\n"
          ]
        }
      ]
    },
    {
      "cell_type": "code",
      "source": [
        "print(b[:2,2:])"
      ],
      "metadata": {
        "colab": {
          "base_uri": "https://localhost:8080/"
        },
        "id": "tCb8HqbKYZxB",
        "outputId": "7335677d-f477-4378-8b45-a7da01dc4977"
      },
      "execution_count": null,
      "outputs": [
        {
          "output_type": "stream",
          "name": "stdout",
          "text": [
            "[[ 4  6]\n",
            " [12 14]]\n"
          ]
        }
      ]
    },
    {
      "cell_type": "code",
      "source": [],
      "metadata": {
        "id": "EiyXMf_qaasR"
      },
      "execution_count": null,
      "outputs": []
    }
  ]
}